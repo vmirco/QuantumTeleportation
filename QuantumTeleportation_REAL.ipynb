{
 "cells": [
  {
   "cell_type": "code",
   "execution_count": 1,
   "id": "3ecea2fc",
   "metadata": {},
   "outputs": [],
   "source": [
    "import qiskit"
   ]
  },
  {
   "cell_type": "code",
   "execution_count": 2,
   "id": "2a2fc448",
   "metadata": {},
   "outputs": [
    {
     "name": "stderr",
     "output_type": "stream",
     "text": [
      "C:\\Users\\mirco\\AppData\\Local\\Temp/ipykernel_672/612666371.py:8: DeprecationWarning: The qiskit.ignis package is deprecated and has been supersceded by the qiskit-experiments project. Refer to the migration guide: https://github.com/Qiskit/qiskit-ignis#migration-guide on how to migrate to the new project.\n",
      "  from qiskit.ignis.verification import marginal_counts\n"
     ]
    }
   ],
   "source": [
    "#Librerie utili allo scopo\n",
    "from math import sqrt, pi\n",
    "import numpy as np\n",
    "from qiskit import QuantumCircuit, QuantumRegister, ClassicalRegister\n",
    "from qiskit import IBMQ, Aer, transpile, assemble\n",
    "from qiskit.visualization import plot_histogram, plot_bloch_multivector, array_to_latex\n",
    "from qiskit.extensions import Initialize\n",
    "from qiskit.ignis.verification import marginal_counts\n",
    "from qiskit.quantum_info import random_statevector\n",
    "from qiskit import execute"
   ]
  },
  {
   "cell_type": "code",
   "execution_count": 3,
   "id": "86c61216",
   "metadata": {},
   "outputs": [
    {
     "data": {
      "text/html": [
       "<pre style=\"word-wrap: normal;white-space: pre;background: #fff0;line-height: 1.1;font-family: &quot;Courier New&quot;,Courier,monospace\">      \n",
       "q0_0: \n",
       "      \n",
       "q0_1: \n",
       "      \n",
       "q0_2: \n",
       "      \n",
       "c0: 1/\n",
       "      \n",
       "c1: 1/\n",
       "      \n",
       "c2: 1/\n",
       "      </pre>"
      ],
      "text/plain": [
       "      \n",
       "q0_0: \n",
       "      \n",
       "q0_1: \n",
       "      \n",
       "q0_2: \n",
       "      \n",
       "c0: 1/\n",
       "      \n",
       "c1: 1/\n",
       "      \n",
       "c2: 1/\n",
       "      "
      ]
     },
     "execution_count": 3,
     "metadata": {},
     "output_type": "execute_result"
    }
   ],
   "source": [
    "#Creazione del circuito per il teletrasporto\n",
    "qc = QuantumRegister(3) #Tre qubit\n",
    "crz = ClassicalRegister(1) #Primo bit classico\n",
    "crx = ClassicalRegister(1) #Terzo bit classico\n",
    "final = ClassicalRegister(1) #Bit finale classico -> conterrà 0 se il teletrasporto funziona\n",
    "teleportation_circuit = QuantumCircuit(qc, crz, crx, final) #Compongo il circuito\n",
    "#Circuito iniziale\n",
    "teleportation_circuit.draw()"
   ]
  },
  {
   "cell_type": "code",
   "execution_count": 4,
   "id": "da07a597",
   "metadata": {},
   "outputs": [
    {
     "data": {
      "text/html": [
       "<pre style=\"word-wrap: normal;white-space: pre;background: #fff0;line-height: 1.1;font-family: &quot;Courier New&quot;,Courier,monospace\">      ┌───────────────────────┐ ░ \n",
       "q0_0: ┤ init(0.94868,0.31623) ├─░─\n",
       "      └───────────────────────┘ ░ \n",
       "q0_1: ──────────────────────────░─\n",
       "                                ░ \n",
       "q0_2: ──────────────────────────░─\n",
       "                                ░ \n",
       "c0: 1/════════════════════════════\n",
       "                                  \n",
       "c1: 1/════════════════════════════\n",
       "                                  \n",
       "c2: 1/════════════════════════════\n",
       "                                  </pre>"
      ],
      "text/plain": [
       "      ┌───────────────────────┐ ░ \n",
       "q0_0: ┤ init(0.94868,0.31623) ├─░─\n",
       "      └───────────────────────┘ ░ \n",
       "q0_1: ──────────────────────────░─\n",
       "                                ░ \n",
       "q0_2: ──────────────────────────░─\n",
       "                                ░ \n",
       "c0: 1/════════════════════════════\n",
       "                                  \n",
       "c1: 1/════════════════════════════\n",
       "                                  \n",
       "c2: 1/════════════════════════════\n",
       "                                  "
      ]
     },
     "execution_count": 4,
     "metadata": {},
     "output_type": "execute_result"
    }
   ],
   "source": [
    "initial_state = [sqrt(0.9), sqrt(0.1)]  #AlphaQuadro=0.9 BetaQuadro=0.1\n",
    "#initial_state = [sqrt(0.3), sqrt(0.7)]  #AlphaQuadro=0.3 BetaQuadro=0.7\n",
    "init_state = Initialize(initial_state) #Uso questa funzione per poter dopo applicare un disentangler\n",
    "init_state.label = \"init\"\n",
    "\n",
    "teleportation_circuit.append(init_state, [0]) #Inizializzo primo bit con le probabilità sopra descritte\n",
    "teleportation_circuit.barrier()\n",
    "#Vediamo come siamo messi\n",
    "teleportation_circuit.draw()"
   ]
  },
  {
   "cell_type": "code",
   "execution_count": 5,
   "id": "0005c474",
   "metadata": {},
   "outputs": [
    {
     "data": {
      "text/html": [
       "<pre style=\"word-wrap: normal;white-space: pre;background: #fff0;line-height: 1.1;font-family: &quot;Courier New&quot;,Courier,monospace\">      ┌───────────────────────┐ ░           \n",
       "q0_0: ┤ init(0.94868,0.31623) ├─░───────────\n",
       "      └───────────────────────┘ ░ ┌───┐     \n",
       "q0_1: ──────────────────────────░─┤ H ├──■──\n",
       "                                ░ └───┘┌─┴─┐\n",
       "q0_2: ──────────────────────────░──────┤ X ├\n",
       "                                ░      └───┘\n",
       "c0: 1/══════════════════════════════════════\n",
       "                                            \n",
       "c1: 1/══════════════════════════════════════\n",
       "                                            \n",
       "c2: 1/══════════════════════════════════════\n",
       "                                            </pre>"
      ],
      "text/plain": [
       "      ┌───────────────────────┐ ░           \n",
       "q0_0: ┤ init(0.94868,0.31623) ├─░───────────\n",
       "      └───────────────────────┘ ░ ┌───┐     \n",
       "q0_1: ──────────────────────────░─┤ H ├──■──\n",
       "                                ░ └───┘┌─┴─┐\n",
       "q0_2: ──────────────────────────░──────┤ X ├\n",
       "                                ░      └───┘\n",
       "c0: 1/══════════════════════════════════════\n",
       "                                            \n",
       "c1: 1/══════════════════════════════════════\n",
       "                                            \n",
       "c2: 1/══════════════════════════════════════\n",
       "                                            "
      ]
     },
     "execution_count": 5,
     "metadata": {},
     "output_type": "execute_result"
    }
   ],
   "source": [
    "#PRIMO STEP -> creo bit entangled\n",
    "#Creo bit entangled di A e B\n",
    "teleportation_circuit.h(1) #Hademard sul secondo qubit generale\n",
    "teleportation_circuit.cx(1,2) #CNOT  su terzo bit  (2) controllato dal secondo (1)\n",
    "#Vediamo come siamo messi\n",
    "teleportation_circuit.draw()"
   ]
  },
  {
   "cell_type": "code",
   "execution_count": 6,
   "id": "37b961bd",
   "metadata": {},
   "outputs": [
    {
     "data": {
      "text/html": [
       "<pre style=\"word-wrap: normal;white-space: pre;background: #fff0;line-height: 1.1;font-family: &quot;Courier New&quot;,Courier,monospace\">      ┌───────────────────────┐ ░            ░      ┌───┐\n",
       "q0_0: ┤ init(0.94868,0.31623) ├─░────────────░───■──┤ H ├\n",
       "      └───────────────────────┘ ░ ┌───┐      ░ ┌─┴─┐└───┘\n",
       "q0_1: ──────────────────────────░─┤ H ├──■───░─┤ X ├─────\n",
       "                                ░ └───┘┌─┴─┐ ░ └───┘     \n",
       "q0_2: ──────────────────────────░──────┤ X ├─░───────────\n",
       "                                ░      └───┘ ░           \n",
       "c0: 1/═══════════════════════════════════════════════════\n",
       "                                                         \n",
       "c1: 1/═══════════════════════════════════════════════════\n",
       "                                                         \n",
       "c2: 1/═══════════════════════════════════════════════════\n",
       "                                                         </pre>"
      ],
      "text/plain": [
       "      ┌───────────────────────┐ ░            ░      ┌───┐\n",
       "q0_0: ┤ init(0.94868,0.31623) ├─░────────────░───■──┤ H ├\n",
       "      └───────────────────────┘ ░ ┌───┐      ░ ┌─┴─┐└───┘\n",
       "q0_1: ──────────────────────────░─┤ H ├──■───░─┤ X ├─────\n",
       "                                ░ └───┘┌─┴─┐ ░ └───┘     \n",
       "q0_2: ──────────────────────────░──────┤ X ├─░───────────\n",
       "                                ░      └───┘ ░           \n",
       "c0: 1/═══════════════════════════════════════════════════\n",
       "                                                         \n",
       "c1: 1/═══════════════════════════════════════════════════\n",
       "                                                         \n",
       "c2: 1/═══════════════════════════════════════════════════\n",
       "                                                         "
      ]
     },
     "execution_count": 6,
     "metadata": {},
     "output_type": "execute_result"
    }
   ],
   "source": [
    "#SECONDO STEP -> \"collego\" il messaggio al qubit entangled\n",
    "teleportation_circuit.barrier() #Barriera\n",
    "teleportation_circuit.cx(0, 1) #CNOT su secondo bit (1) controllato dal primo bit (0)\n",
    "teleportation_circuit.h(0) #Hademard sul messaggio\n",
    "#Circuito aggiornato\n",
    "teleportation_circuit.draw()"
   ]
  },
  {
   "cell_type": "code",
   "execution_count": 7,
   "id": "089e8830",
   "metadata": {},
   "outputs": [
    {
     "data": {
      "text/html": [
       "<pre style=\"word-wrap: normal;white-space: pre;background: #fff0;line-height: 1.1;font-family: &quot;Courier New&quot;,Courier,monospace\">      ┌───────────────────────┐ ░            ░      ┌───┐ ░ ┌─┐   \n",
       "q0_0: ┤ init(0.94868,0.31623) ├─░────────────░───■──┤ H ├─░─┤M├───\n",
       "      └───────────────────────┘ ░ ┌───┐      ░ ┌─┴─┐└───┘ ░ └╥┘┌─┐\n",
       "q0_1: ──────────────────────────░─┤ H ├──■───░─┤ X ├──────░──╫─┤M├\n",
       "                                ░ └───┘┌─┴─┐ ░ └───┘      ░  ║ └╥┘\n",
       "q0_2: ──────────────────────────░──────┤ X ├─░────────────░──╫──╫─\n",
       "                                ░      └───┘ ░            ░  ║  ║ \n",
       "c0: 1/═══════════════════════════════════════════════════════╩══╬═\n",
       "                                                             0  ║ \n",
       "                                                                ║ \n",
       "c1: 1/══════════════════════════════════════════════════════════╩═\n",
       "                                                                0 \n",
       "                                                                  \n",
       "c2: 1/════════════════════════════════════════════════════════════\n",
       "                                                                  </pre>"
      ],
      "text/plain": [
       "      ┌───────────────────────┐ ░            ░      ┌───┐ ░ ┌─┐   \n",
       "q0_0: ┤ init(0.94868,0.31623) ├─░────────────░───■──┤ H ├─░─┤M├───\n",
       "      └───────────────────────┘ ░ ┌───┐      ░ ┌─┴─┐└───┘ ░ └╥┘┌─┐\n",
       "q0_1: ──────────────────────────░─┤ H ├──■───░─┤ X ├──────░──╫─┤M├\n",
       "                                ░ └───┘┌─┴─┐ ░ └───┘      ░  ║ └╥┘\n",
       "q0_2: ──────────────────────────░──────┤ X ├─░────────────░──╫──╫─\n",
       "                                ░      └───┘ ░            ░  ║  ║ \n",
       "c0: 1/═══════════════════════════════════════════════════════╩══╬═\n",
       "                                                             0  ║ \n",
       "                                                                ║ \n",
       "c1: 1/══════════════════════════════════════════════════════════╩═\n",
       "                                                                0 \n",
       "                                                                  \n",
       "c2: 1/════════════════════════════════════════════════════════════\n",
       "                                                                  "
      ]
     },
     "execution_count": 7,
     "metadata": {},
     "output_type": "execute_result"
    }
   ],
   "source": [
    "#TERZO STEP -> misura di A\n",
    "#A effetuua una misura sui due qubit che ha, il risultato sarà nei registri classici\n",
    "teleportation_circuit.barrier()\n",
    "teleportation_circuit.measure(0,crz) #Misura del primo qubit nel registro classico crz\n",
    "teleportation_circuit.measure(1,crx) #Misura del secondo qubit nel registro classico crx\n",
    "#Circuito aggiornato\n",
    "teleportation_circuit.draw()"
   ]
  },
  {
   "cell_type": "code",
   "execution_count": 8,
   "id": "1a62b7cc",
   "metadata": {},
   "outputs": [
    {
     "data": {
      "text/html": [
       "<pre style=\"word-wrap: normal;white-space: pre;background: #fff0;line-height: 1.1;font-family: &quot;Courier New&quot;,Courier,monospace\">      ┌───────────────────────┐ ░            ░      ┌───┐ ░ ┌─┐          »\n",
       "q0_0: ┤ init(0.94868,0.31623) ├─░────────────░───■──┤ H ├─░─┤M├──────────»\n",
       "      └───────────────────────┘ ░ ┌───┐      ░ ┌─┴─┐└───┘ ░ └╥┘┌─┐       »\n",
       "q0_1: ──────────────────────────░─┤ H ├──■───░─┤ X ├──────░──╫─┤M├───────»\n",
       "                                ░ └───┘┌─┴─┐ ░ └───┘      ░  ║ └╥┘ ┌───┐ »\n",
       "q0_2: ──────────────────────────░──────┤ X ├─░────────────░──╫──╫──┤ X ├─»\n",
       "                                ░      └───┘ ░            ░  ║  ║  └─╥─┘ »\n",
       "c0: 1/═══════════════════════════════════════════════════════╩══╬════╬═══»\n",
       "                                                             0  ║ ┌──╨──┐»\n",
       "c1: 1/══════════════════════════════════════════════════════════╩═╡ 0x1 ╞»\n",
       "                                                                0 └─────┘»\n",
       "c2: 1/═══════════════════════════════════════════════════════════════════»\n",
       "                                                                         »\n",
       "«             \n",
       "«q0_0: ───────\n",
       "«             \n",
       "«q0_1: ───────\n",
       "«       ┌───┐ \n",
       "«q0_2: ─┤ Z ├─\n",
       "«       └─╥─┘ \n",
       "«      ┌──╨──┐\n",
       "«c0: 1/╡ 0x1 ╞\n",
       "«      └─────┘\n",
       "«c1: 1/═══════\n",
       "«             \n",
       "«c2: 1/═══════\n",
       "«             </pre>"
      ],
      "text/plain": [
       "      ┌───────────────────────┐ ░            ░      ┌───┐ ░ ┌─┐          »\n",
       "q0_0: ┤ init(0.94868,0.31623) ├─░────────────░───■──┤ H ├─░─┤M├──────────»\n",
       "      └───────────────────────┘ ░ ┌───┐      ░ ┌─┴─┐└───┘ ░ └╥┘┌─┐       »\n",
       "q0_1: ──────────────────────────░─┤ H ├──■───░─┤ X ├──────░──╫─┤M├───────»\n",
       "                                ░ └───┘┌─┴─┐ ░ └───┘      ░  ║ └╥┘ ┌───┐ »\n",
       "q0_2: ──────────────────────────░──────┤ X ├─░────────────░──╫──╫──┤ X ├─»\n",
       "                                ░      └───┘ ░            ░  ║  ║  └─╥─┘ »\n",
       "c0: 1/═══════════════════════════════════════════════════════╩══╬════╬═══»\n",
       "                                                             0  ║ ┌──╨──┐»\n",
       "c1: 1/══════════════════════════════════════════════════════════╩═╡ 0x1 ╞»\n",
       "                                                                0 └─────┘»\n",
       "c2: 1/═══════════════════════════════════════════════════════════════════»\n",
       "                                                                         »\n",
       "«             \n",
       "«q0_0: ───────\n",
       "«             \n",
       "«q0_1: ───────\n",
       "«       ┌───┐ \n",
       "«q0_2: ─┤ Z ├─\n",
       "«       └─╥─┘ \n",
       "«      ┌──╨──┐\n",
       "«c0: 1/╡ 0x1 ╞\n",
       "«      └─────┘\n",
       "«c1: 1/═══════\n",
       "«             \n",
       "«c2: 1/═══════\n",
       "«             "
      ]
     },
     "execution_count": 8,
     "metadata": {},
     "output_type": "execute_result"
    }
   ],
   "source": [
    "#ULTIMO STEP -> porta correttiva applicata da B\n",
    "# 00 -> Niente\n",
    "# 10 -> Z\n",
    "# 01 -> X\n",
    "# 11 -> XZ\n",
    "teleportation_circuit.x(2).c_if(crx, 1) #Applico porta di correzione X se ho 1 nel registro\n",
    "teleportation_circuit.z(2).c_if(crz, 1) #Applico porta di correzione Z se ho 1 nel registro\n",
    "#Circuito aggiornato\n",
    "teleportation_circuit.draw()"
   ]
  },
  {
   "cell_type": "code",
   "execution_count": 9,
   "id": "dbfc3e99",
   "metadata": {},
   "outputs": [
    {
     "data": {
      "text/html": [
       "<pre style=\"word-wrap: normal;white-space: pre;background: #fff0;line-height: 1.1;font-family: &quot;Courier New&quot;,Courier,monospace\">      ┌───────────────────────┐ ░            ░      ┌───┐ ░ ┌─┐          »\n",
       "q0_0: ┤ init(0.94868,0.31623) ├─░────────────░───■──┤ H ├─░─┤M├──────────»\n",
       "      └───────────────────────┘ ░ ┌───┐      ░ ┌─┴─┐└───┘ ░ └╥┘┌─┐       »\n",
       "q0_1: ──────────────────────────░─┤ H ├──■───░─┤ X ├──────░──╫─┤M├───────»\n",
       "                                ░ └───┘┌─┴─┐ ░ └───┘      ░  ║ └╥┘ ┌───┐ »\n",
       "q0_2: ──────────────────────────░──────┤ X ├─░────────────░──╫──╫──┤ X ├─»\n",
       "                                ░      └───┘ ░            ░  ║  ║  └─╥─┘ »\n",
       "c0: 1/═══════════════════════════════════════════════════════╩══╬════╬═══»\n",
       "                                                             0  ║ ┌──╨──┐»\n",
       "c1: 1/══════════════════════════════════════════════════════════╩═╡ 0x1 ╞»\n",
       "                                                                0 └─────┘»\n",
       "c2: 1/═══════════════════════════════════════════════════════════════════»\n",
       "                                                                         »\n",
       "«                             \n",
       "«q0_0: ───────────────────────\n",
       "«                             \n",
       "«q0_1: ───────────────────────\n",
       "«       ┌───┐ ┌──────────────┐\n",
       "«q0_2: ─┤ Z ├─┤ disentangler ├\n",
       "«       └─╥─┘ └──────────────┘\n",
       "«      ┌──╨──┐                \n",
       "«c0: 1/╡ 0x1 ╞════════════════\n",
       "«      └─────┘                \n",
       "«c1: 1/═══════════════════════\n",
       "«                             \n",
       "«c2: 1/═══════════════════════\n",
       "«                             </pre>"
      ],
      "text/plain": [
       "      ┌───────────────────────┐ ░            ░      ┌───┐ ░ ┌─┐          »\n",
       "q0_0: ┤ init(0.94868,0.31623) ├─░────────────░───■──┤ H ├─░─┤M├──────────»\n",
       "      └───────────────────────┘ ░ ┌───┐      ░ ┌─┴─┐└───┘ ░ └╥┘┌─┐       »\n",
       "q0_1: ──────────────────────────░─┤ H ├──■───░─┤ X ├──────░──╫─┤M├───────»\n",
       "                                ░ └───┘┌─┴─┐ ░ └───┘      ░  ║ └╥┘ ┌───┐ »\n",
       "q0_2: ──────────────────────────░──────┤ X ├─░────────────░──╫──╫──┤ X ├─»\n",
       "                                ░      └───┘ ░            ░  ║  ║  └─╥─┘ »\n",
       "c0: 1/═══════════════════════════════════════════════════════╩══╬════╬═══»\n",
       "                                                             0  ║ ┌──╨──┐»\n",
       "c1: 1/══════════════════════════════════════════════════════════╩═╡ 0x1 ╞»\n",
       "                                                                0 └─────┘»\n",
       "c2: 1/═══════════════════════════════════════════════════════════════════»\n",
       "                                                                         »\n",
       "«                             \n",
       "«q0_0: ───────────────────────\n",
       "«                             \n",
       "«q0_1: ───────────────────────\n",
       "«       ┌───┐ ┌──────────────┐\n",
       "«q0_2: ─┤ Z ├─┤ disentangler ├\n",
       "«       └─╥─┘ └──────────────┘\n",
       "«      ┌──╨──┐                \n",
       "«c0: 1/╡ 0x1 ╞════════════════\n",
       "«      └─────┘                \n",
       "«c1: 1/═══════════════════════\n",
       "«                             \n",
       "«c2: 1/═══════════════════════\n",
       "«                             "
      ]
     },
     "execution_count": 9,
     "metadata": {},
     "output_type": "execute_result"
    }
   ],
   "source": [
    "#Disentangler\n",
    "inverse_init_state = init_state.gates_to_uncompute() #Porta che mi dovrebbe dare sempre 0\n",
    "teleportation_circuit.append(inverse_init_state, [2]) #Applico trasformazione inversa\n",
    "#Circuito aggiornato\n",
    "teleportation_circuit.draw()"
   ]
  },
  {
   "cell_type": "code",
   "execution_count": 10,
   "id": "4a938b37",
   "metadata": {},
   "outputs": [
    {
     "data": {
      "text/html": [
       "<pre style=\"word-wrap: normal;white-space: pre;background: #fff0;line-height: 1.1;font-family: &quot;Courier New&quot;,Courier,monospace\">      ┌───────────────────────┐ ░            ░      ┌───┐ ░ ┌─┐          »\n",
       "q0_0: ┤ init(0.94868,0.31623) ├─░────────────░───■──┤ H ├─░─┤M├──────────»\n",
       "      └───────────────────────┘ ░ ┌───┐      ░ ┌─┴─┐└───┘ ░ └╥┘┌─┐       »\n",
       "q0_1: ──────────────────────────░─┤ H ├──■───░─┤ X ├──────░──╫─┤M├───────»\n",
       "                                ░ └───┘┌─┴─┐ ░ └───┘      ░  ║ └╥┘ ┌───┐ »\n",
       "q0_2: ──────────────────────────░──────┤ X ├─░────────────░──╫──╫──┤ X ├─»\n",
       "                                ░      └───┘ ░            ░  ║  ║  └─╥─┘ »\n",
       "c0: 1/═══════════════════════════════════════════════════════╩══╬════╬═══»\n",
       "                                                             0  ║ ┌──╨──┐»\n",
       "c1: 1/══════════════════════════════════════════════════════════╩═╡ 0x1 ╞»\n",
       "                                                                0 └─────┘»\n",
       "c2: 1/═══════════════════════════════════════════════════════════════════»\n",
       "                                                                         »\n",
       "«                                \n",
       "«q0_0: ──────────────────────────\n",
       "«                                \n",
       "«q0_1: ──────────────────────────\n",
       "«       ┌───┐ ┌──────────────┐┌─┐\n",
       "«q0_2: ─┤ Z ├─┤ disentangler ├┤M├\n",
       "«       └─╥─┘ └──────────────┘└╥┘\n",
       "«      ┌──╨──┐                 ║ \n",
       "«c0: 1/╡ 0x1 ╞═════════════════╬═\n",
       "«      └─────┘                 ║ \n",
       "«c1: 1/════════════════════════╬═\n",
       "«                              ║ \n",
       "«c2: 1/════════════════════════╩═\n",
       "«                              0 </pre>"
      ],
      "text/plain": [
       "      ┌───────────────────────┐ ░            ░      ┌───┐ ░ ┌─┐          »\n",
       "q0_0: ┤ init(0.94868,0.31623) ├─░────────────░───■──┤ H ├─░─┤M├──────────»\n",
       "      └───────────────────────┘ ░ ┌───┐      ░ ┌─┴─┐└───┘ ░ └╥┘┌─┐       »\n",
       "q0_1: ──────────────────────────░─┤ H ├──■───░─┤ X ├──────░──╫─┤M├───────»\n",
       "                                ░ └───┘┌─┴─┐ ░ └───┘      ░  ║ └╥┘ ┌───┐ »\n",
       "q0_2: ──────────────────────────░──────┤ X ├─░────────────░──╫──╫──┤ X ├─»\n",
       "                                ░      └───┘ ░            ░  ║  ║  └─╥─┘ »\n",
       "c0: 1/═══════════════════════════════════════════════════════╩══╬════╬═══»\n",
       "                                                             0  ║ ┌──╨──┐»\n",
       "c1: 1/══════════════════════════════════════════════════════════╩═╡ 0x1 ╞»\n",
       "                                                                0 └─────┘»\n",
       "c2: 1/═══════════════════════════════════════════════════════════════════»\n",
       "                                                                         »\n",
       "«                                \n",
       "«q0_0: ──────────────────────────\n",
       "«                                \n",
       "«q0_1: ──────────────────────────\n",
       "«       ┌───┐ ┌──────────────┐┌─┐\n",
       "«q0_2: ─┤ Z ├─┤ disentangler ├┤M├\n",
       "«       └─╥─┘ └──────────────┘└╥┘\n",
       "«      ┌──╨──┐                 ║ \n",
       "«c0: 1/╡ 0x1 ╞═════════════════╬═\n",
       "«      └─────┘                 ║ \n",
       "«c1: 1/════════════════════════╬═\n",
       "«                              ║ \n",
       "«c2: 1/════════════════════════╩═\n",
       "«                              0 "
      ]
     },
     "execution_count": 10,
     "metadata": {},
     "output_type": "execute_result"
    }
   ],
   "source": [
    "#Misura finale, se tutto è andato bene dovrei avere 0 nell'ultimo bit\n",
    "teleportation_circuit.measure(2,2)\n",
    "teleportation_circuit.draw()"
   ]
  },
  {
   "cell_type": "code",
   "execution_count": 11,
   "id": "dc71c19e",
   "metadata": {},
   "outputs": [
    {
     "data": {
      "image/png": "[encoded data removed]",
      "text/plain": [
       "<Figure size 504x360 with 1 Axes>"
      ]
     },
     "execution_count": 11,
     "metadata": {},
     "output_type": "execute_result"
    }
   ],
   "source": [
    "#SIMULAZIONE ESPERIMENTO\n",
    "sim = Aer.get_backend('qasm_simulator')\n",
    "t_qc = transpile(teleportation_circuit, sim)\n",
    "t_qc.save_statevector()\n",
    "counts = sim.run(t_qc).result().get_counts()\n",
    "qubit_counts = [marginal_counts(counts, [qubit]) for qubit in range(3)]\n",
    "plot_histogram(qubit_counts)"
   ]
  }
 ],
 "metadata": {
  "kernelspec": {
   "display_name": "Python 3 (ipykernel)",
   "language": "python",
   "name": "python3"
  },
  "language_info": {
   "codemirror_mode": {
    "name": "ipython",
    "version": 3
   },
   "file_extension": ".py",
   "mimetype": "text/x-python",
   "name": "python",
   "nbconvert_exporter": "python",
   "pygments_lexer": "ipython3",
   "version": "3.9.7"
  }
 },
 "nbformat": 4,
 "nbformat_minor": 5
}
