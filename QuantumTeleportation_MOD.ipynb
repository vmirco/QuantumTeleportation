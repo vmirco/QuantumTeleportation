{
 "cells": [
  {
   "cell_type": "code",
   "execution_count": 12,
   "id": "ceda6669",
   "metadata": {},
   "outputs": [],
   "source": [
    "import qiskit"
   ]
  },
  {
   "cell_type": "code",
   "execution_count": 13,
   "id": "ea2dad0a",
   "metadata": {},
   "outputs": [],
   "source": [
    "#Librerie utili allo scopo\n",
    "from math import sqrt, pi\n",
    "import numpy as np\n",
    "from qiskit import QuantumCircuit, QuantumRegister, ClassicalRegister\n",
    "from qiskit import IBMQ, Aer, transpile, assemble\n",
    "from qiskit.visualization import plot_histogram, plot_bloch_multivector, array_to_latex\n",
    "from qiskit.extensions import Initialize\n",
    "from qiskit.ignis.verification import marginal_counts\n",
    "from qiskit.quantum_info import random_statevector\n",
    "from qiskit import execute"
   ]
  },
  {
   "cell_type": "code",
   "execution_count": 14,
   "id": "792af618",
   "metadata": {},
   "outputs": [
    {
     "data": {
      "text/html": [
       "<pre style=\"word-wrap: normal;white-space: pre;background: #fff0;line-height: 1.1;font-family: &quot;Courier New&quot;,Courier,monospace\">      \n",
       "q2_0: \n",
       "      \n",
       "q2_1: \n",
       "      \n",
       "q2_2: \n",
       "      \n",
       "c2: 1/\n",
       "      </pre>"
      ],
      "text/plain": [
       "      \n",
       "q2_0: \n",
       "      \n",
       "q2_1: \n",
       "      \n",
       "q2_2: \n",
       "      \n",
       "c2: 1/\n",
       "      "
      ]
     },
     "execution_count": 14,
     "metadata": {},
     "output_type": "execute_result"
    }
   ],
   "source": [
    "#Creazione del circuito per il teletrasporto\n",
    "qc = QuantumRegister(3) #Tre qubit\n",
    "final = ClassicalRegister(1) #Bit finale classico -> conterrà 0 se il teletrasporto funziona\n",
    "teleportation_circuit = QuantumCircuit(qc, final) #Compongo il circuito\n",
    "#Circuito iniziale\n",
    "teleportation_circuit.draw()"
   ]
  },
  {
   "cell_type": "code",
   "execution_count": 15,
   "id": "36e46ec1",
   "metadata": {},
   "outputs": [
    {
     "data": {
      "text/html": [
       "<pre style=\"word-wrap: normal;white-space: pre;background: #fff0;line-height: 1.1;font-family: &quot;Courier New&quot;,Courier,monospace\">      ┌───────────────────────┐ ░ \n",
       "q2_0: ┤ init(0.94868,0.31623) ├─░─\n",
       "      └───────────────────────┘ ░ \n",
       "q2_1: ──────────────────────────░─\n",
       "                                ░ \n",
       "q2_2: ──────────────────────────░─\n",
       "                                ░ \n",
       "c2: 1/════════════════════════════\n",
       "                                  </pre>"
      ],
      "text/plain": [
       "      ┌───────────────────────┐ ░ \n",
       "q2_0: ┤ init(0.94868,0.31623) ├─░─\n",
       "      └───────────────────────┘ ░ \n",
       "q2_1: ──────────────────────────░─\n",
       "                                ░ \n",
       "q2_2: ──────────────────────────░─\n",
       "                                ░ \n",
       "c2: 1/════════════════════════════\n",
       "                                  "
      ]
     },
     "execution_count": 15,
     "metadata": {},
     "output_type": "execute_result"
    }
   ],
   "source": [
    "initial_state = [sqrt(0.9), sqrt(0.1)]  #AlphaQuadro=0.9 BetaQuadro=0.1\n",
    "#initial_state = [sqrt(0.3), sqrt(0.7)]  #AlphaQuadro=0.3 BetaQuadro=0.7\n",
    "init_state = Initialize(initial_state) #Uso questa funzione per poter dopo applicare un disentangler\n",
    "init_state.label = \"init\"\n",
    "\n",
    "teleportation_circuit.append(init_state, [0]) #Inizializzo primo bit con le probabilità sopra descritte\n",
    "teleportation_circuit.barrier()\n",
    "#Vediamo come siamo messi\n",
    "teleportation_circuit.draw()"
   ]
  },
  {
   "cell_type": "code",
   "execution_count": 16,
   "id": "54edad10",
   "metadata": {},
   "outputs": [
    {
     "data": {
      "text/html": [
       "<pre style=\"word-wrap: normal;white-space: pre;background: #fff0;line-height: 1.1;font-family: &quot;Courier New&quot;,Courier,monospace\">      ┌───────────────────────┐ ░           \n",
       "q2_0: ┤ init(0.94868,0.31623) ├─░───────────\n",
       "      └───────────────────────┘ ░ ┌───┐     \n",
       "q2_1: ──────────────────────────░─┤ H ├──■──\n",
       "                                ░ └───┘┌─┴─┐\n",
       "q2_2: ──────────────────────────░──────┤ X ├\n",
       "                                ░      └───┘\n",
       "c2: 1/══════════════════════════════════════\n",
       "                                            </pre>"
      ],
      "text/plain": [
       "      ┌───────────────────────┐ ░           \n",
       "q2_0: ┤ init(0.94868,0.31623) ├─░───────────\n",
       "      └───────────────────────┘ ░ ┌───┐     \n",
       "q2_1: ──────────────────────────░─┤ H ├──■──\n",
       "                                ░ └───┘┌─┴─┐\n",
       "q2_2: ──────────────────────────░──────┤ X ├\n",
       "                                ░      └───┘\n",
       "c2: 1/══════════════════════════════════════\n",
       "                                            "
      ]
     },
     "execution_count": 16,
     "metadata": {},
     "output_type": "execute_result"
    }
   ],
   "source": [
    "#PRIMO STEP -> creo bit entangled\n",
    "#Creo bit entangled di A e B\n",
    "teleportation_circuit.h(1) #Hademard sul secondo qubit generale\n",
    "teleportation_circuit.cx(1,2) #CNOT  su terzo bit  (2) controllato dal secondo (1)\n",
    "#Vediamo come siamo messi\n",
    "teleportation_circuit.draw()"
   ]
  },
  {
   "cell_type": "code",
   "execution_count": 17,
   "id": "1800c52a",
   "metadata": {},
   "outputs": [
    {
     "data": {
      "text/html": [
       "<pre style=\"word-wrap: normal;white-space: pre;background: #fff0;line-height: 1.1;font-family: &quot;Courier New&quot;,Courier,monospace\">      ┌───────────────────────┐ ░            ░      ┌───┐\n",
       "q2_0: ┤ init(0.94868,0.31623) ├─░────────────░───■──┤ H ├\n",
       "      └───────────────────────┘ ░ ┌───┐      ░ ┌─┴─┐└───┘\n",
       "q2_1: ──────────────────────────░─┤ H ├──■───░─┤ X ├─────\n",
       "                                ░ └───┘┌─┴─┐ ░ └───┘     \n",
       "q2_2: ──────────────────────────░──────┤ X ├─░───────────\n",
       "                                ░      └───┘ ░           \n",
       "c2: 1/═══════════════════════════════════════════════════\n",
       "                                                         </pre>"
      ],
      "text/plain": [
       "      ┌───────────────────────┐ ░            ░      ┌───┐\n",
       "q2_0: ┤ init(0.94868,0.31623) ├─░────────────░───■──┤ H ├\n",
       "      └───────────────────────┘ ░ ┌───┐      ░ ┌─┴─┐└───┘\n",
       "q2_1: ──────────────────────────░─┤ H ├──■───░─┤ X ├─────\n",
       "                                ░ └───┘┌─┴─┐ ░ └───┘     \n",
       "q2_2: ──────────────────────────░──────┤ X ├─░───────────\n",
       "                                ░      └───┘ ░           \n",
       "c2: 1/═══════════════════════════════════════════════════\n",
       "                                                         "
      ]
     },
     "execution_count": 17,
     "metadata": {},
     "output_type": "execute_result"
    }
   ],
   "source": [
    "#SECONDO STEP -> \"collego\" il messaggio al qubit entangled\n",
    "teleportation_circuit.barrier() #Barriera\n",
    "teleportation_circuit.cx(0, 1) #CNOT su secondo bit (1) controllato dal primo bit (0)\n",
    "teleportation_circuit.h(0) #Hademard sul messaggio\n",
    "#Circuito aggiornato\n",
    "teleportation_circuit.draw()"
   ]
  },
  {
   "cell_type": "code",
   "execution_count": 18,
   "id": "a2c581c9",
   "metadata": {},
   "outputs": [
    {
     "data": {
      "text/html": [
       "<pre style=\"word-wrap: normal;white-space: pre;background: #fff0;line-height: 1.1;font-family: &quot;Courier New&quot;,Courier,monospace\">      ┌───────────────────────┐ ░            ░      ┌───┐ ░ \n",
       "q2_0: ┤ init(0.94868,0.31623) ├─░────────────░───■──┤ H ├─░─\n",
       "      └───────────────────────┘ ░ ┌───┐      ░ ┌─┴─┐└───┘ ░ \n",
       "q2_1: ──────────────────────────░─┤ H ├──■───░─┤ X ├──────░─\n",
       "                                ░ └───┘┌─┴─┐ ░ └───┘      ░ \n",
       "q2_2: ──────────────────────────░──────┤ X ├─░────────────░─\n",
       "                                ░      └───┘ ░            ░ \n",
       "c2: 1/══════════════════════════════════════════════════════\n",
       "                                                            </pre>"
      ],
      "text/plain": [
       "      ┌───────────────────────┐ ░            ░      ┌───┐ ░ \n",
       "q2_0: ┤ init(0.94868,0.31623) ├─░────────────░───■──┤ H ├─░─\n",
       "      └───────────────────────┘ ░ ┌───┐      ░ ┌─┴─┐└───┘ ░ \n",
       "q2_1: ──────────────────────────░─┤ H ├──■───░─┤ X ├──────░─\n",
       "                                ░ └───┘┌─┴─┐ ░ └───┘      ░ \n",
       "q2_2: ──────────────────────────░──────┤ X ├─░────────────░─\n",
       "                                ░      └───┘ ░            ░ \n",
       "c2: 1/══════════════════════════════════════════════════════\n",
       "                                                            "
      ]
     },
     "execution_count": 18,
     "metadata": {},
     "output_type": "execute_result"
    }
   ],
   "source": [
    "#TERZO STEP -> misura di A\n",
    "#A effetuua una misura sui due qubit che ha, il risultato sarà nei registri classici\n",
    "teleportation_circuit.barrier()\n",
    "#teleportation_circuit.measure(0,crz) #Misura del primo qubit nel registro classico crz\n",
    "#teleportation_circuit.measure(1,crx) #Misura del secondo qubit nel registro classico crx\n",
    "#Circuito aggiornato\n",
    "teleportation_circuit.draw()"
   ]
  },
  {
   "cell_type": "code",
   "execution_count": 19,
   "id": "0b780907",
   "metadata": {},
   "outputs": [
    {
     "data": {
      "text/html": [
       "<pre style=\"word-wrap: normal;white-space: pre;background: #fff0;line-height: 1.1;font-family: &quot;Courier New&quot;,Courier,monospace\">      ┌───────────────────────┐ ░            ░      ┌───┐ ░         \n",
       "q2_0: ┤ init(0.94868,0.31623) ├─░────────────░───■──┤ H ├─░───────■─\n",
       "      └───────────────────────┘ ░ ┌───┐      ░ ┌─┴─┐└───┘ ░       │ \n",
       "q2_1: ──────────────────────────░─┤ H ├──■───░─┤ X ├──────░───■───┼─\n",
       "                                ░ └───┘┌─┴─┐ ░ └───┘      ░ ┌─┴─┐ │ \n",
       "q2_2: ──────────────────────────░──────┤ X ├─░────────────░─┤ X ├─■─\n",
       "                                ░      └───┘ ░            ░ └───┘   \n",
       "c2: 1/══════════════════════════════════════════════════════════════\n",
       "                                                                    </pre>"
      ],
      "text/plain": [
       "      ┌───────────────────────┐ ░            ░      ┌───┐ ░         \n",
       "q2_0: ┤ init(0.94868,0.31623) ├─░────────────░───■──┤ H ├─░───────■─\n",
       "      └───────────────────────┘ ░ ┌───┐      ░ ┌─┴─┐└───┘ ░       │ \n",
       "q2_1: ──────────────────────────░─┤ H ├──■───░─┤ X ├──────░───■───┼─\n",
       "                                ░ └───┘┌─┴─┐ ░ └───┘      ░ ┌─┴─┐ │ \n",
       "q2_2: ──────────────────────────░──────┤ X ├─░────────────░─┤ X ├─■─\n",
       "                                ░      └───┘ ░            ░ └───┘   \n",
       "c2: 1/══════════════════════════════════════════════════════════════\n",
       "                                                                    "
      ]
     },
     "execution_count": 19,
     "metadata": {},
     "output_type": "execute_result"
    }
   ],
   "source": [
    "#ULTIMO STEP -> porta correttiva applicata da B\n",
    "# 00 -> Niente\n",
    "# 10 -> Z\n",
    "# 01 -> X\n",
    "# 11 -> XZ\n",
    "teleportation_circuit.cx(1, 2)\n",
    "teleportation_circuit.cz(0, 2)\n",
    "#teleportation_circuit.x(2).c_if(crx, 1) #Applico porta di correzione X se ho 1 nel registro\n",
    "#teleportation_circuit.z(2).c_if(crz, 1) #Applico porta di correzione Z se ho 1 nel registro\n",
    "#Circuito aggiornato\n",
    "teleportation_circuit.draw()"
   ]
  },
  {
   "cell_type": "code",
   "execution_count": 20,
   "id": "622372e6",
   "metadata": {},
   "outputs": [
    {
     "data": {
      "text/html": [
       "<pre style=\"word-wrap: normal;white-space: pre;background: #fff0;line-height: 1.1;font-family: &quot;Courier New&quot;,Courier,monospace\">      ┌───────────────────────┐ ░            ░      ┌───┐ ░         »\n",
       "q2_0: ┤ init(0.94868,0.31623) ├─░────────────░───■──┤ H ├─░───────■─»\n",
       "      └───────────────────────┘ ░ ┌───┐      ░ ┌─┴─┐└───┘ ░       │ »\n",
       "q2_1: ──────────────────────────░─┤ H ├──■───░─┤ X ├──────░───■───┼─»\n",
       "                                ░ └───┘┌─┴─┐ ░ └───┘      ░ ┌─┴─┐ │ »\n",
       "q2_2: ──────────────────────────░──────┤ X ├─░────────────░─┤ X ├─■─»\n",
       "                                ░      └───┘ ░            ░ └───┘   »\n",
       "c2: 1/══════════════════════════════════════════════════════════════»\n",
       "                                                                    »\n",
       "«                      \n",
       "«q2_0: ────────────────\n",
       "«                      \n",
       "«q2_1: ────────────────\n",
       "«      ┌──────────────┐\n",
       "«q2_2: ┤ disentangler ├\n",
       "«      └──────────────┘\n",
       "«c2: 1/════════════════\n",
       "«                      </pre>"
      ],
      "text/plain": [
       "      ┌───────────────────────┐ ░            ░      ┌───┐ ░         »\n",
       "q2_0: ┤ init(0.94868,0.31623) ├─░────────────░───■──┤ H ├─░───────■─»\n",
       "      └───────────────────────┘ ░ ┌───┐      ░ ┌─┴─┐└───┘ ░       │ »\n",
       "q2_1: ──────────────────────────░─┤ H ├──■───░─┤ X ├──────░───■───┼─»\n",
       "                                ░ └───┘┌─┴─┐ ░ └───┘      ░ ┌─┴─┐ │ »\n",
       "q2_2: ──────────────────────────░──────┤ X ├─░────────────░─┤ X ├─■─»\n",
       "                                ░      └───┘ ░            ░ └───┘   »\n",
       "c2: 1/══════════════════════════════════════════════════════════════»\n",
       "                                                                    »\n",
       "«                      \n",
       "«q2_0: ────────────────\n",
       "«                      \n",
       "«q2_1: ────────────────\n",
       "«      ┌──────────────┐\n",
       "«q2_2: ┤ disentangler ├\n",
       "«      └──────────────┘\n",
       "«c2: 1/════════════════\n",
       "«                      "
      ]
     },
     "execution_count": 20,
     "metadata": {},
     "output_type": "execute_result"
    }
   ],
   "source": [
    "#Disentangler\n",
    "inverse_init_state = init_state.gates_to_uncompute() #Porta che mi dovrebbe dare sempre 0\n",
    "teleportation_circuit.append(inverse_init_state, [2]) #Applico trasformazione inversa\n",
    "#Circuito aggiornato\n",
    "teleportation_circuit.draw()"
   ]
  },
  {
   "cell_type": "code",
   "execution_count": 21,
   "id": "ca9f49c4",
   "metadata": {},
   "outputs": [
    {
     "data": {
      "text/html": [
       "<pre style=\"word-wrap: normal;white-space: pre;background: #fff0;line-height: 1.1;font-family: &quot;Courier New&quot;,Courier,monospace\">      ┌───────────────────────┐ ░            ░      ┌───┐ ░         »\n",
       "q2_0: ┤ init(0.94868,0.31623) ├─░────────────░───■──┤ H ├─░───────■─»\n",
       "      └───────────────────────┘ ░ ┌───┐      ░ ┌─┴─┐└───┘ ░       │ »\n",
       "q2_1: ──────────────────────────░─┤ H ├──■───░─┤ X ├──────░───■───┼─»\n",
       "                                ░ └───┘┌─┴─┐ ░ └───┘      ░ ┌─┴─┐ │ »\n",
       "q2_2: ──────────────────────────░──────┤ X ├─░────────────░─┤ X ├─■─»\n",
       "                                ░      └───┘ ░            ░ └───┘   »\n",
       "c2: 1/══════════════════════════════════════════════════════════════»\n",
       "                                                                    »\n",
       "«                         \n",
       "«q2_0: ───────────────────\n",
       "«                         \n",
       "«q2_1: ───────────────────\n",
       "«      ┌──────────────┐┌─┐\n",
       "«q2_2: ┤ disentangler ├┤M├\n",
       "«      └──────────────┘└╥┘\n",
       "«c2: 1/═════════════════╩═\n",
       "«                       0 </pre>"
      ],
      "text/plain": [
       "      ┌───────────────────────┐ ░            ░      ┌───┐ ░         »\n",
       "q2_0: ┤ init(0.94868,0.31623) ├─░────────────░───■──┤ H ├─░───────■─»\n",
       "      └───────────────────────┘ ░ ┌───┐      ░ ┌─┴─┐└───┘ ░       │ »\n",
       "q2_1: ──────────────────────────░─┤ H ├──■───░─┤ X ├──────░───■───┼─»\n",
       "                                ░ └───┘┌─┴─┐ ░ └───┘      ░ ┌─┴─┐ │ »\n",
       "q2_2: ──────────────────────────░──────┤ X ├─░────────────░─┤ X ├─■─»\n",
       "                                ░      └───┘ ░            ░ └───┘   »\n",
       "c2: 1/══════════════════════════════════════════════════════════════»\n",
       "                                                                    »\n",
       "«                         \n",
       "«q2_0: ───────────────────\n",
       "«                         \n",
       "«q2_1: ───────────────────\n",
       "«      ┌──────────────┐┌─┐\n",
       "«q2_2: ┤ disentangler ├┤M├\n",
       "«      └──────────────┘└╥┘\n",
       "«c2: 1/═════════════════╩═\n",
       "«                       0 "
      ]
     },
     "execution_count": 21,
     "metadata": {},
     "output_type": "execute_result"
    }
   ],
   "source": [
    "#Misura finale, se tutto è andato bene dovrei avere 0 nell'ultimo bit\n",
    "teleportation_circuit.measure(2,0)\n",
    "teleportation_circuit.draw()"
   ]
  },
  {
   "cell_type": "code",
   "execution_count": 22,
   "id": "560ed588",
   "metadata": {},
   "outputs": [
    {
     "data": {
      "image/png": "[encoded data removed]",
      "text/plain": [
       "<Figure size 504x360 with 1 Axes>"
      ]
     },
     "execution_count": 22,
     "metadata": {},
     "output_type": "execute_result"
    }
   ],
   "source": [
    "#SIMULAZIONE ESPERIMENTO\n",
    "sim = Aer.get_backend('aer_simulator')\n",
    "t_qc = transpile(teleportation_circuit, sim)\n",
    "t_qc.save_statevector()\n",
    "counts = sim.run(t_qc).result().get_counts()\n",
    "qubit_counts = [marginal_counts(counts, [qubit]) for qubit in range(3)]\n",
    "plot_histogram(qubit_counts)"
   ]
  },
  {
   "cell_type": "code",
   "execution_count": 23,
   "id": "80ad92bb",
   "metadata": {},
   "outputs": [
    {
     "name": "stdout",
     "output_type": "stream",
     "text": [
      "COMPUTER SCELTO:  ibmq_lima\n"
     ]
    }
   ],
   "source": [
    "#TEST REALE\n",
    "from qiskit import IBMQ\n",
    "from qiskit.providers.ibmq import least_busy\n",
    "shots = 256\n",
    "\n",
    "#IBMQ.save_account('763d3f05bcdfd873126de6c85ed191521de9c65651ec42a52b18c317a58f6f5a27ef69b8bf81575f0ae531c4d1e8c9e70068f586bf5d140a00a066437adf6ca7')\n",
    "IBMQ.load_account()\n",
    "provider = IBMQ.get_provider(hub='ibm-q')\n",
    "backend = least_busy(provider.backends(filters=lambda x: x.configuration().n_qubits >= 2 \n",
    "                                       and not x.configuration().simulator \n",
    "                                       and x.status().operational==True))\n",
    "print(\"COMPUTER SCELTO: \", backend)\n",
    "#EXEC\n",
    "job = execute(teleportation_circuit, backend=backend, shots=shots)"
   ]
  },
  {
   "cell_type": "code",
   "execution_count": 24,
   "id": "ccd7ad8f",
   "metadata": {},
   "outputs": [
    {
     "name": "stdout",
     "output_type": "stream",
     "text": [
      "Job Status: job has successfully run\n"
     ]
    }
   ],
   "source": [
    "from qiskit.tools.monitor import job_monitor\n",
    "job_monitor(job)"
   ]
  },
  {
   "cell_type": "code",
   "execution_count": 25,
   "id": "5e1cfd22",
   "metadata": {},
   "outputs": [
    {
     "data": {
      "image/png": "[encoded data removed]",
      "text/plain": [
       "<Figure size 504x360 with 1 Axes>"
      ]
     },
     "execution_count": 25,
     "metadata": {},
     "output_type": "execute_result"
    }
   ],
   "source": [
    "#RISULTATI\n",
    "#0 successo - 1 fallito\n",
    "result = job.result()\n",
    "plot_histogram(result.get_counts(teleportation_circuit))"
   ]
  }
 ],
 "metadata": {
  "kernelspec": {
   "display_name": "Python 3 (ipykernel)",
   "language": "python",
   "name": "python3"
  },
  "language_info": {
   "codemirror_mode": {
    "name": "ipython",
    "version": 3
   },
   "file_extension": ".py",
   "mimetype": "text/x-python",
   "name": "python",
   "nbconvert_exporter": "python",
   "pygments_lexer": "ipython3",
   "version": "3.9.7"
  }
 },
 "nbformat": 4,
 "nbformat_minor": 5
}
